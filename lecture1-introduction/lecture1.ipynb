{
 "cells": [
  {
   "cell_type": "markdown",
   "metadata": {
    "slideshow": {
     "slide_type": "slide"
    }
   },
   "source": [
    "# Lecture 1: Introduction and Data Science Basics\n"
   ]
  },
  {
   "cell_type": "markdown",
   "metadata": {},
   "source": [
    "(Based on the Jupyter notebook by Marek Rei)\n",
    "\n",
    "This session will cover how to load data in common formats into python, plot it and calculate basic statistics over it. "
   ]
  },
  {
   "cell_type": "markdown",
   "metadata": {},
   "source": [
    "## Python Syntax Refresher"
   ]
  },
  {
   "cell_type": "markdown",
   "metadata": {},
   "source": [
    "Here is a short python program just to remind you about the python syntax. \n",
    "\n",
    "This short code snippet imports a library called *random*, creates a list with three elements, then goes through the list and prints each element along with a random number."
   ]
  },
  {
   "cell_type": "code",
   "execution_count": 1,
   "metadata": {},
   "outputs": [
    {
     "name": "stdout",
     "output_type": "stream",
     "text": [
      "camel 0.7467977293676846\n",
      "elephant 0.2801734390246857\n",
      "crocodile 0.8800502244316697\n"
     ]
    }
   ],
   "source": [
    "import random\n",
    "\n",
    "my_list = [\"camel\", \"elephant\", \"crocodile\"]\n",
    "for word in my_list:\n",
    "    print(word + \" \" + str(random.random()))"
   ]
  },
  {
   "cell_type": "markdown",
   "metadata": {},
   "source": [
    "If you need help with getting started with Python, there are a couple of useful tutorials online, e.g.:\n",
    "\n",
    "- https://www.tutorialspoint.com/python/index.htm\n",
    "- https://www.learnpython.org\n",
    "- https://www.codecademy.com/learn/learn-python-3"
   ]
  },
  {
   "cell_type": "markdown",
   "metadata": {},
   "source": [
    "## Dataset\n",
    "\n",
    "We will use the data/country-stats.csv (the repository actually presents data in a number of different formats) file which contains demographic information for 161 countries, collected by The World Bank. Each line includes the following values:\n",
    "\n",
    "* Country\tName\n",
    "* GDP per Capita (PPP USD)\n",
    "* Population Density (persons per sq km)\n",
    "* Population Growth Rate (%)\n",
    "* Urban Population (%)\n",
    "* Life Expectancy at Birth (avg years)\n",
    "* Fertility Rate (births per woman)\n",
    "* Infant Mortality (deaths per 1000 births)\n",
    "* Enrolment Rate, Tertiary (%)\n",
    "* Unemployment, Total (%)\n",
    "* Estimated Control of Corruption (scale -2.5 to 2.5)\n",
    "* Estimated Government Effectiveness (scale -2.5 to 2.5)\n",
    "* Internet Users (%)"
   ]
  },
  {
   "cell_type": "markdown",
   "metadata": {},
   "source": [
    "A sample of the CSV (comma-separated values) format can be seen below. Values are separated by commas; the first row contains column headers.\n",
    "\n",
    "~~~~\n",
    "Country Name,GDP per Capita (PPP USD),Population Density (persons per sq km),Population Growth Rate (%),Urban Population (%),Life Expectancy at Birth (avg years),Fertility Rate (births per woman),Infant Mortality (deaths per 1000 births),\"Enrolment Rate, Tertiary (%)\",\"Unemployment, Total (%)\",Estimated Control of Corruption (scale -2.5 to 2.5),Estimated Government Effectiveness (scale -2.5 to 2.5),Internet Users (%)\n",
    "Afghanistan,1560.67,44.62,2.44,23.86,60.07,5.39,71,3.33,8.5,-1.41,-1.4,5.45\n",
    "Albania,9403.43,115.11,0.26,54.45,77.16,1.75,15,54.85,14.2,-0.72,-0.28,54.66\n",
    "Algeria,8515.35,15.86,1.89,73.71,70.75,2.83,25.6,31.46,10,-0.54,-0.55,15.23\n",
    "Antigua and Barbuda,19640.35,200.35,1.03,29.87,75.5,2.12,9.2,14.37,8.4,1.29,0.48,83.79\n",
    "Argentina,12016.2,14.88,0.88,92.64,75.84,2.2,12.7,74.83,7.2,-0.49,-0.25,55.8\n",
    "~~~~"
   ]
  },
  {
   "cell_type": "markdown",
   "metadata": {},
   "source": [
    "## Reading Data into Python"
   ]
  },
  {
   "cell_type": "markdown",
   "metadata": {},
   "source": [
    "We can use the python library called `pandas` in order to easily load CSV files into our code. The *data* variable will be a `pandas`-specific object containing the whole dataset. *data.head()* shows the first few lines."
   ]
  },
  {
   "cell_type": "code",
   "execution_count": 2,
   "metadata": {
    "scrolled": true
   },
   "outputs": [
    {
     "data": {
      "text/html": [
       "<div>\n",
       "<style scoped>\n",
       "    .dataframe tbody tr th:only-of-type {\n",
       "        vertical-align: middle;\n",
       "    }\n",
       "\n",
       "    .dataframe tbody tr th {\n",
       "        vertical-align: top;\n",
       "    }\n",
       "\n",
       "    .dataframe thead th {\n",
       "        text-align: right;\n",
       "    }\n",
       "</style>\n",
       "<table border=\"1\" class=\"dataframe\">\n",
       "  <thead>\n",
       "    <tr style=\"text-align: right;\">\n",
       "      <th></th>\n",
       "      <th>Country Name</th>\n",
       "      <th>GDP per Capita (PPP USD)</th>\n",
       "      <th>Population Density (persons per sq km)</th>\n",
       "      <th>Population Growth Rate (%)</th>\n",
       "      <th>Urban Population (%)</th>\n",
       "      <th>Life Expectancy at Birth (avg years)</th>\n",
       "      <th>Fertility Rate (births per woman)</th>\n",
       "      <th>Infant Mortality (deaths per 1000 births)</th>\n",
       "      <th>Enrolment Rate, Tertiary (%)</th>\n",
       "      <th>Unemployment, Total (%)</th>\n",
       "      <th>Estimated Control of Corruption (scale -2.5 to 2.5)</th>\n",
       "      <th>Estimated Government Effectiveness (scale -2.5 to 2.5)</th>\n",
       "      <th>Internet Users (%)</th>\n",
       "    </tr>\n",
       "  </thead>\n",
       "  <tbody>\n",
       "    <tr>\n",
       "      <th>0</th>\n",
       "      <td>Afghanistan</td>\n",
       "      <td>1560.67</td>\n",
       "      <td>44.62</td>\n",
       "      <td>2.44</td>\n",
       "      <td>23.86</td>\n",
       "      <td>60.07</td>\n",
       "      <td>5.39</td>\n",
       "      <td>71.0</td>\n",
       "      <td>3.33</td>\n",
       "      <td>8.5</td>\n",
       "      <td>-1.41</td>\n",
       "      <td>-1.40</td>\n",
       "      <td>5.45</td>\n",
       "    </tr>\n",
       "    <tr>\n",
       "      <th>1</th>\n",
       "      <td>Albania</td>\n",
       "      <td>9403.43</td>\n",
       "      <td>115.11</td>\n",
       "      <td>0.26</td>\n",
       "      <td>54.45</td>\n",
       "      <td>77.16</td>\n",
       "      <td>1.75</td>\n",
       "      <td>15.0</td>\n",
       "      <td>54.85</td>\n",
       "      <td>14.2</td>\n",
       "      <td>-0.72</td>\n",
       "      <td>-0.28</td>\n",
       "      <td>54.66</td>\n",
       "    </tr>\n",
       "    <tr>\n",
       "      <th>2</th>\n",
       "      <td>Algeria</td>\n",
       "      <td>8515.35</td>\n",
       "      <td>15.86</td>\n",
       "      <td>1.89</td>\n",
       "      <td>73.71</td>\n",
       "      <td>70.75</td>\n",
       "      <td>2.83</td>\n",
       "      <td>25.6</td>\n",
       "      <td>31.46</td>\n",
       "      <td>10.0</td>\n",
       "      <td>-0.54</td>\n",
       "      <td>-0.55</td>\n",
       "      <td>15.23</td>\n",
       "    </tr>\n",
       "    <tr>\n",
       "      <th>3</th>\n",
       "      <td>Antigua and Barbuda</td>\n",
       "      <td>19640.35</td>\n",
       "      <td>200.35</td>\n",
       "      <td>1.03</td>\n",
       "      <td>29.87</td>\n",
       "      <td>75.50</td>\n",
       "      <td>2.12</td>\n",
       "      <td>9.2</td>\n",
       "      <td>14.37</td>\n",
       "      <td>8.4</td>\n",
       "      <td>1.29</td>\n",
       "      <td>0.48</td>\n",
       "      <td>83.79</td>\n",
       "    </tr>\n",
       "    <tr>\n",
       "      <th>4</th>\n",
       "      <td>Argentina</td>\n",
       "      <td>12016.20</td>\n",
       "      <td>14.88</td>\n",
       "      <td>0.88</td>\n",
       "      <td>92.64</td>\n",
       "      <td>75.84</td>\n",
       "      <td>2.20</td>\n",
       "      <td>12.7</td>\n",
       "      <td>74.83</td>\n",
       "      <td>7.2</td>\n",
       "      <td>-0.49</td>\n",
       "      <td>-0.25</td>\n",
       "      <td>55.80</td>\n",
       "    </tr>\n",
       "  </tbody>\n",
       "</table>\n",
       "</div>"
      ],
      "text/plain": [
       "          Country Name  GDP per Capita (PPP USD)  \\\n",
       "0          Afghanistan                   1560.67   \n",
       "1              Albania                   9403.43   \n",
       "2              Algeria                   8515.35   \n",
       "3  Antigua and Barbuda                  19640.35   \n",
       "4            Argentina                  12016.20   \n",
       "\n",
       "   Population Density (persons per sq km)  Population Growth Rate (%)  \\\n",
       "0                                   44.62                        2.44   \n",
       "1                                  115.11                        0.26   \n",
       "2                                   15.86                        1.89   \n",
       "3                                  200.35                        1.03   \n",
       "4                                   14.88                        0.88   \n",
       "\n",
       "   Urban Population (%)  Life Expectancy at Birth (avg years)  \\\n",
       "0                 23.86                                 60.07   \n",
       "1                 54.45                                 77.16   \n",
       "2                 73.71                                 70.75   \n",
       "3                 29.87                                 75.50   \n",
       "4                 92.64                                 75.84   \n",
       "\n",
       "   Fertility Rate (births per woman)  \\\n",
       "0                               5.39   \n",
       "1                               1.75   \n",
       "2                               2.83   \n",
       "3                               2.12   \n",
       "4                               2.20   \n",
       "\n",
       "   Infant Mortality (deaths per 1000 births)  Enrolment Rate, Tertiary (%)  \\\n",
       "0                                       71.0                          3.33   \n",
       "1                                       15.0                         54.85   \n",
       "2                                       25.6                         31.46   \n",
       "3                                        9.2                         14.37   \n",
       "4                                       12.7                         74.83   \n",
       "\n",
       "   Unemployment, Total (%)  \\\n",
       "0                      8.5   \n",
       "1                     14.2   \n",
       "2                     10.0   \n",
       "3                      8.4   \n",
       "4                      7.2   \n",
       "\n",
       "   Estimated Control of Corruption (scale -2.5 to 2.5)  \\\n",
       "0                                              -1.41     \n",
       "1                                              -0.72     \n",
       "2                                              -0.54     \n",
       "3                                               1.29     \n",
       "4                                              -0.49     \n",
       "\n",
       "   Estimated Government Effectiveness (scale -2.5 to 2.5)  Internet Users (%)  \n",
       "0                                              -1.40                     5.45  \n",
       "1                                              -0.28                    54.66  \n",
       "2                                              -0.55                    15.23  \n",
       "3                                               0.48                    83.79  \n",
       "4                                              -0.25                    55.80  "
      ]
     },
     "execution_count": 2,
     "metadata": {},
     "output_type": "execute_result"
    }
   ],
   "source": [
    "import pandas as pd\n",
    "\n",
    "data = pd.read_csv('data/country-stats.csv')\n",
    "data.head()"
   ]
  },
  {
   "cell_type": "markdown",
   "metadata": {},
   "source": [
    "## Using *Pandas* to Analyze Data"
   ]
  },
  {
   "cell_type": "markdown",
   "metadata": {},
   "source": [
    "Now that we have loaded the data, we can analyze it.  \n",
    "\n",
    "To start, we'll focus on one variable in this dataset: GDP per Capita (PPP USD).\n",
    "\n",
    "It is common to describe a variable by finding its average value (the mean), so let's do that first."
   ]
  },
  {
   "cell_type": "code",
   "execution_count": 3,
   "metadata": {},
   "outputs": [
    {
     "data": {
      "text/plain": [
       "15616.289378881987"
      ]
     },
     "execution_count": 3,
     "metadata": {},
     "output_type": "execute_result"
    }
   ],
   "source": [
    "data[\"GDP per Capita (PPP USD)\"].mean()"
   ]
  },
  {
   "cell_type": "markdown",
   "metadata": {},
   "source": [
    "Now we know that the average GDP in those countries is $15616. But on its own that doesn't really tell us much. As data scientists, we want to find interesting connections and patterns. \n",
    "\n",
    "What if we look at how the average GDP differs between countries with low and high unemployment? We can use `pandas` to first select countries that have a specific unemployment percentage (e.g., 7\\%) and then calculate the mean over that group."
   ]
  },
  {
   "cell_type": "code",
   "execution_count": 4,
   "metadata": {
    "scrolled": true
   },
   "outputs": [
    {
     "data": {
      "text/plain": [
       "16383.713421052631"
      ]
     },
     "execution_count": 4,
     "metadata": {},
     "output_type": "execute_result"
    }
   ],
   "source": [
    "low_unemployment_countries = data[data[\"Unemployment, Total (%)\"] < 7]\n",
    "low_unemployment_countries[\"GDP per Capita (PPP USD)\"].mean()"
   ]
  },
  {
   "cell_type": "code",
   "execution_count": 5,
   "metadata": {},
   "outputs": [
    {
     "data": {
      "text/plain": [
       "14930.122"
      ]
     },
     "execution_count": 5,
     "metadata": {},
     "output_type": "execute_result"
    }
   ],
   "source": [
    "high_unemployment_countries = data[data[\"Unemployment, Total (%)\"] >= 7]\n",
    "high_unemployment_countries[\"GDP per Capita (PPP USD)\"].mean()"
   ]
  },
  {
   "cell_type": "markdown",
   "metadata": {},
   "source": [
    "Now we're getting somewhere! There's a difference in average GDP between these two groups. Countries with higher unemployment rate have lower GDP.  \n",
    "\n",
    "Let's plot this finding using another helpful library, `matplotlib`."
   ]
  },
  {
   "cell_type": "code",
   "execution_count": 6,
   "metadata": {},
   "outputs": [
    {
     "data": {
      "image/png": "[encoded data removed]",
      "text/plain": [
       "<Figure size 432x288 with 1 Axes>"
      ]
     },
     "metadata": {
      "needs_background": "light"
     },
     "output_type": "display_data"
    }
   ],
   "source": [
    "%matplotlib inline\n",
    "import matplotlib.pyplot as plt\n",
    "\n",
    "bar_width = 0.6\n",
    "\n",
    "x1 = [0.0]\n",
    "x2 = [bar_width]\n",
    "\n",
    "y1 = [data[data[\"Unemployment, Total (%)\"] < 7][\"GDP per Capita (PPP USD)\"].mean()]\n",
    "y2 = [data[data[\"Unemployment, Total (%)\"] >= 7][\"GDP per Capita (PPP USD)\"].mean()]\n",
    "\n",
    "fig, ax = plt.subplots()\n",
    "bars1 = ax.bar(x1, y1, bar_width, alpha=0.4, color='b', label='Low unemployment')\n",
    "bars2 = ax.bar(x2, y2, bar_width, alpha=0.4, color='r', label='High unemployment')\n",
    "\n",
    "ax.set_ylabel('GDP')\n",
    "ax.set_title('Average GDP by unemployment')\n",
    "ax.set_xticks([])\n",
    "ax.set_xlim([-2,2.5])\n",
    "ax.set_ylim([14000,17000])\n",
    "ax.legend()\n",
    "\n",
    "plt.show()"
   ]
  },
  {
   "cell_type": "markdown",
   "metadata": {},
   "source": [
    "This clearly looks like a big difference in GDP between the two countries, right?\n",
    "\n",
    "Well, there are actually a couple of problems with this plot. First of all, a lot depends on how the information is presented. If we adjust the Y axis to show the whole range of values, the same difference will not look as substantial any more."
   ]
  },
  {
   "cell_type": "code",
   "execution_count": 7,
   "metadata": {},
   "outputs": [
    {
     "data": {
      "image/png": "[encoded data removed]",
      "text/plain": [
       "<Figure size 432x288 with 1 Axes>"
      ]
     },
     "metadata": {
      "needs_background": "light"
     },
     "output_type": "display_data"
    }
   ],
   "source": [
    "bar_width = 0.6\n",
    "\n",
    "x1 = [0.0]\n",
    "x2 = [bar_width]\n",
    "\n",
    "y1 = [data[data[\"Unemployment, Total (%)\"] < 7][\"GDP per Capita (PPP USD)\"].mean()]\n",
    "y2 = [data[data[\"Unemployment, Total (%)\"] >= 7][\"GDP per Capita (PPP USD)\"].mean()]\n",
    "\n",
    "fig, ax = plt.subplots()\n",
    "bars1 = ax.bar(x1, y1, bar_width, alpha=0.4, color='b', label='Low unempl.')\n",
    "bars2 = ax.bar(x2, y2, bar_width, alpha=0.4, color='r', label='High unempl.')\n",
    "\n",
    "ax.set_ylabel('GDP')\n",
    "ax.set_title('Average GDP by unemployment')\n",
    "ax.set_xticks([])\n",
    "ax.set_xlim([-2,2.5])\n",
    "ax.set_ylim([0, 17000])\n",
    "ax.legend()\n",
    "\n",
    "plt.show()"
   ]
  },
  {
   "cell_type": "markdown",
   "metadata": {},
   "source": [
    "That doesn't look like a very big difference any more. The way we present data is a powerful tool and we have to be careful not to let it fool ourselves (or others)."
   ]
  },
  {
   "cell_type": "markdown",
   "metadata": {},
   "source": [
    "The second problem is that taking the average of some data throws away a lot of important information. Let's calculate the standard deviation of these groups as well."
   ]
  },
  {
   "cell_type": "code",
   "execution_count": 8,
   "metadata": {},
   "outputs": [
    {
     "data": {
      "text/plain": [
       "19752.9126477805"
      ]
     },
     "execution_count": 8,
     "metadata": {},
     "output_type": "execute_result"
    }
   ],
   "source": [
    "low_unemployment_countries = data[data[\"Unemployment, Total (%)\"] < 7]\n",
    "low_unemployment_countries[\"GDP per Capita (PPP USD)\"].std()"
   ]
  },
  {
   "cell_type": "code",
   "execution_count": 9,
   "metadata": {},
   "outputs": [
    {
     "data": {
      "text/plain": [
       "12781.059320722152"
      ]
     },
     "execution_count": 9,
     "metadata": {},
     "output_type": "execute_result"
    }
   ],
   "source": [
    "high_unemployment_countries = data[data[\"Unemployment, Total (%)\"] >= 7]\n",
    "high_unemployment_countries[\"GDP per Capita (PPP USD)\"].std()"
   ]
  },
  {
   "cell_type": "markdown",
   "metadata": {},
   "source": [
    "For both subgroups, the standard deviation is almost just as high as the average GDP. This means there is so much variance in the data that the difference in averages hardly matters."
   ]
  },
  {
   "cell_type": "markdown",
   "metadata": {},
   "source": [
    "We can plot the data to take a better look at the relationships between these two variables."
   ]
  },
  {
   "cell_type": "code",
   "execution_count": 10,
   "metadata": {},
   "outputs": [
    {
     "data": {
      "image/png": "[encoded data removed]",
      "text/plain": [
       "<Figure size 432x288 with 1 Axes>"
      ]
     },
     "metadata": {
      "needs_background": "light"
     },
     "output_type": "display_data"
    }
   ],
   "source": [
    "plt.scatter(data[\"Unemployment, Total (%)\"], data[\"GDP per Capita (PPP USD)\"])\n",
    "plt.xlabel(\"Unemployment, Total (%)\")\n",
    "plt.ylabel(\"GDP per Capita (PPP USD)\")\n",
    "for i in [37,84]:\n",
    "    plt.annotate(data[\"Country Name\"][i], (data[\"Unemployment, Total (%)\"][i], data[\"GDP per Capita (PPP USD)\"][i]))\n",
    "\n",
    "#fig.set_size_inches(5,5)\n",
    "plt.savefig('graph3.png', dpi=400)\n",
    "    \n",
    "plt.show()"
   ]
  },
  {
   "cell_type": "markdown",
   "metadata": {},
   "source": [
    "We can see that there are some countries with very low unemployment and very high GDP, and some countries with very high unemployment and very low GDP (following our original intuition about the data). But there are also many countries with low unemloyment and low GDP, so our original assumption doesn't really hold and is not actually supported by the data."
   ]
  },
  {
   "cell_type": "markdown",
   "metadata": {},
   "source": [
    "## Doing More with Pandas"
   ]
  },
  {
   "cell_type": "markdown",
   "metadata": {},
   "source": [
    "Here are some other useful things you can do with the `pandas` DataFrame object. If you call it on a dataset without any filters, it will calculate the mean value for all the columns."
   ]
  },
  {
   "cell_type": "code",
   "execution_count": 11,
   "metadata": {},
   "outputs": [
    {
     "data": {
      "text/plain": [
       "GDP per Capita (PPP USD)                                  15616.289379\n",
       "Population Density (persons per sq km)                      150.002360\n",
       "Population Growth Rate (%)                                    1.339441\n",
       "Urban Population (%)                                         56.351429\n",
       "Life Expectancy at Birth (avg years)                         70.730683\n",
       "Fertility Rate (births per woman)                             2.786398\n",
       "Infant Mortality (deaths per 1000 births)                    24.203727\n",
       "Enrolment Rate, Tertiary (%)                                 34.376149\n",
       "Unemployment, Total (%)                                       9.334161\n",
       "Estimated Control of Corruption (scale -2.5 to 2.5)           0.007143\n",
       "Estimated Government Effectiveness (scale -2.5 to 2.5)        0.047826\n",
       "Internet Users (%)                                           41.998137\n",
       "dtype: float64"
      ]
     },
     "execution_count": 11,
     "metadata": {},
     "output_type": "execute_result"
    }
   ],
   "source": [
    "data.mean()"
   ]
  },
  {
   "cell_type": "markdown",
   "metadata": {},
   "source": [
    "Similarly, you can use it to calculate statistics such as the median, minimum and maximum:"
   ]
  },
  {
   "cell_type": "code",
   "execution_count": 20,
   "metadata": {},
   "outputs": [
    {
     "data": {
      "text/plain": [
       "Country Name                                               Zambia\n",
       "GDP per Capita (PPP USD)                                    88286\n",
       "Population Density (persons per sq km)                    1701.01\n",
       "Population Growth Rate (%)                                   7.05\n",
       "Urban Population (%)                                        98.89\n",
       "Life Expectancy at Birth (avg years)                         82.7\n",
       "Fertility Rate (births per woman)                            7.01\n",
       "Infant Mortality (deaths per 1000 births)                   117.4\n",
       "Enrolment Rate, Tertiary (%)                                100.8\n",
       "Unemployment, Total (%)                                      59.5\n",
       "Estimated Control of Corruption (scale -2.5 to 2.5)          2.42\n",
       "Estimated Government Effectiveness (scale -2.5 to 2.5)       2.21\n",
       "Internet Users (%)                                             96\n",
       "dtype: object"
      ]
     },
     "execution_count": 20,
     "metadata": {},
     "output_type": "execute_result"
    }
   ],
   "source": [
    "data.median()\n",
    "data.min()\n",
    "data.max()"
   ]
  },
  {
   "cell_type": "markdown",
   "metadata": {},
   "source": [
    "You can get index using row/column numbers as well. Here is row number 2:"
   ]
  },
  {
   "cell_type": "code",
   "execution_count": 15,
   "metadata": {},
   "outputs": [
    {
     "data": {
      "text/plain": [
       "Country Name                                              Algeria\n",
       "GDP per Capita (PPP USD)                                  8515.35\n",
       "Population Density (persons per sq km)                      15.86\n",
       "Population Growth Rate (%)                                   1.89\n",
       "Urban Population (%)                                        73.71\n",
       "Life Expectancy at Birth (avg years)                        70.75\n",
       "Fertility Rate (births per woman)                            2.83\n",
       "Infant Mortality (deaths per 1000 births)                    25.6\n",
       "Enrolment Rate, Tertiary (%)                                31.46\n",
       "Unemployment, Total (%)                                        10\n",
       "Estimated Control of Corruption (scale -2.5 to 2.5)         -0.54\n",
       "Estimated Government Effectiveness (scale -2.5 to 2.5)      -0.55\n",
       "Internet Users (%)                                          15.23\n",
       "Name: 2, dtype: object"
      ]
     },
     "execution_count": 15,
     "metadata": {},
     "output_type": "execute_result"
    }
   ],
   "source": [
    "data.iloc[2,:]"
   ]
  },
  {
   "cell_type": "markdown",
   "metadata": {},
   "source": [
    "Column number 4:"
   ]
  },
  {
   "cell_type": "code",
   "execution_count": 21,
   "metadata": {
    "scrolled": true
   },
   "outputs": [
    {
     "data": {
      "text/plain": [
       "0    23.86\n",
       "1    54.45\n",
       "2    73.71\n",
       "3    29.87\n",
       "4    92.64\n",
       "Name: Urban Population (%), dtype: float64"
      ]
     },
     "execution_count": 21,
     "metadata": {},
     "output_type": "execute_result"
    }
   ],
   "source": [
    "data.iloc[:,4].head()"
   ]
  },
  {
   "cell_type": "markdown",
   "metadata": {},
   "source": [
    "Element in row 2 column 4:"
   ]
  },
  {
   "cell_type": "code",
   "execution_count": 22,
   "metadata": {},
   "outputs": [
    {
     "data": {
      "text/plain": [
       "73.71"
      ]
     },
     "execution_count": 22,
     "metadata": {},
     "output_type": "execute_result"
    }
   ],
   "source": [
    "data.iloc[2,4]"
   ]
  },
  {
   "cell_type": "markdown",
   "metadata": {},
   "source": [
    "The *.describe()* function prints a bunch of different statistics at once for all the fields:"
   ]
  },
  {
   "cell_type": "code",
   "execution_count": 23,
   "metadata": {},
   "outputs": [
    {
     "data": {
      "text/html": [
       "<div>\n",
       "<style scoped>\n",
       "    .dataframe tbody tr th:only-of-type {\n",
       "        vertical-align: middle;\n",
       "    }\n",
       "\n",
       "    .dataframe tbody tr th {\n",
       "        vertical-align: top;\n",
       "    }\n",
       "\n",
       "    .dataframe thead th {\n",
       "        text-align: right;\n",
       "    }\n",
       "</style>\n",
       "<table border=\"1\" class=\"dataframe\">\n",
       "  <thead>\n",
       "    <tr style=\"text-align: right;\">\n",
       "      <th></th>\n",
       "      <th>GDP per Capita (PPP USD)</th>\n",
       "      <th>Population Density (persons per sq km)</th>\n",
       "      <th>Population Growth Rate (%)</th>\n",
       "      <th>Urban Population (%)</th>\n",
       "      <th>Life Expectancy at Birth (avg years)</th>\n",
       "      <th>Fertility Rate (births per woman)</th>\n",
       "      <th>Infant Mortality (deaths per 1000 births)</th>\n",
       "      <th>Enrolment Rate, Tertiary (%)</th>\n",
       "      <th>Unemployment, Total (%)</th>\n",
       "      <th>Estimated Control of Corruption (scale -2.5 to 2.5)</th>\n",
       "      <th>Estimated Government Effectiveness (scale -2.5 to 2.5)</th>\n",
       "      <th>Internet Users (%)</th>\n",
       "    </tr>\n",
       "  </thead>\n",
       "  <tbody>\n",
       "    <tr>\n",
       "      <th>count</th>\n",
       "      <td>161.000000</td>\n",
       "      <td>161.000000</td>\n",
       "      <td>161.000000</td>\n",
       "      <td>161.000000</td>\n",
       "      <td>161.000000</td>\n",
       "      <td>161.000000</td>\n",
       "      <td>161.000000</td>\n",
       "      <td>161.000000</td>\n",
       "      <td>161.000000</td>\n",
       "      <td>161.000000</td>\n",
       "      <td>161.000000</td>\n",
       "      <td>161.000000</td>\n",
       "    </tr>\n",
       "    <tr>\n",
       "      <th>mean</th>\n",
       "      <td>15616.289379</td>\n",
       "      <td>150.002360</td>\n",
       "      <td>1.339441</td>\n",
       "      <td>56.351429</td>\n",
       "      <td>70.730683</td>\n",
       "      <td>2.786398</td>\n",
       "      <td>24.203727</td>\n",
       "      <td>34.376149</td>\n",
       "      <td>9.334161</td>\n",
       "      <td>0.007143</td>\n",
       "      <td>0.047826</td>\n",
       "      <td>41.998137</td>\n",
       "    </tr>\n",
       "    <tr>\n",
       "      <th>std</th>\n",
       "      <td>16406.926234</td>\n",
       "      <td>228.164746</td>\n",
       "      <td>1.152827</td>\n",
       "      <td>23.219885</td>\n",
       "      <td>8.800197</td>\n",
       "      <td>1.405951</td>\n",
       "      <td>23.111558</td>\n",
       "      <td>26.913834</td>\n",
       "      <td>7.650916</td>\n",
       "      <td>0.977855</td>\n",
       "      <td>0.923518</td>\n",
       "      <td>28.954284</td>\n",
       "    </tr>\n",
       "    <tr>\n",
       "      <th>min</th>\n",
       "      <td>551.270000</td>\n",
       "      <td>1.770000</td>\n",
       "      <td>-1.600000</td>\n",
       "      <td>11.210000</td>\n",
       "      <td>47.780000</td>\n",
       "      <td>1.230000</td>\n",
       "      <td>1.700000</td>\n",
       "      <td>0.810000</td>\n",
       "      <td>0.200000</td>\n",
       "      <td>-1.560000</td>\n",
       "      <td>-1.650000</td>\n",
       "      <td>0.800000</td>\n",
       "    </tr>\n",
       "    <tr>\n",
       "      <th>25%</th>\n",
       "      <td>2925.650000</td>\n",
       "      <td>36.520000</td>\n",
       "      <td>0.450000</td>\n",
       "      <td>36.340000</td>\n",
       "      <td>65.960000</td>\n",
       "      <td>1.790000</td>\n",
       "      <td>6.700000</td>\n",
       "      <td>10.410000</td>\n",
       "      <td>4.200000</td>\n",
       "      <td>-0.690000</td>\n",
       "      <td>-0.640000</td>\n",
       "      <td>13.940000</td>\n",
       "    </tr>\n",
       "    <tr>\n",
       "      <th>50%</th>\n",
       "      <td>9637.080000</td>\n",
       "      <td>79.760000</td>\n",
       "      <td>1.250000</td>\n",
       "      <td>56.730000</td>\n",
       "      <td>73.450000</td>\n",
       "      <td>2.250000</td>\n",
       "      <td>14.900000</td>\n",
       "      <td>26.790000</td>\n",
       "      <td>7.200000</td>\n",
       "      <td>-0.300000</td>\n",
       "      <td>-0.070000</td>\n",
       "      <td>41.440000</td>\n",
       "    </tr>\n",
       "    <tr>\n",
       "      <th>75%</th>\n",
       "      <td>24590.490000</td>\n",
       "      <td>175.350000</td>\n",
       "      <td>2.170000</td>\n",
       "      <td>74.000000</td>\n",
       "      <td>76.760000</td>\n",
       "      <td>3.460000</td>\n",
       "      <td>38.500000</td>\n",
       "      <td>58.810000</td>\n",
       "      <td>12.700000</td>\n",
       "      <td>0.640000</td>\n",
       "      <td>0.760000</td>\n",
       "      <td>65.000000</td>\n",
       "    </tr>\n",
       "    <tr>\n",
       "      <th>max</th>\n",
       "      <td>88286.000000</td>\n",
       "      <td>1701.010000</td>\n",
       "      <td>7.050000</td>\n",
       "      <td>98.890000</td>\n",
       "      <td>82.700000</td>\n",
       "      <td>7.010000</td>\n",
       "      <td>117.400000</td>\n",
       "      <td>100.800000</td>\n",
       "      <td>59.500000</td>\n",
       "      <td>2.420000</td>\n",
       "      <td>2.210000</td>\n",
       "      <td>96.000000</td>\n",
       "    </tr>\n",
       "  </tbody>\n",
       "</table>\n",
       "</div>"
      ],
      "text/plain": [
       "       GDP per Capita (PPP USD)  Population Density (persons per sq km)  \\\n",
       "count                161.000000                              161.000000   \n",
       "mean               15616.289379                              150.002360   \n",
       "std                16406.926234                              228.164746   \n",
       "min                  551.270000                                1.770000   \n",
       "25%                 2925.650000                               36.520000   \n",
       "50%                 9637.080000                               79.760000   \n",
       "75%                24590.490000                              175.350000   \n",
       "max                88286.000000                             1701.010000   \n",
       "\n",
       "       Population Growth Rate (%)  Urban Population (%)  \\\n",
       "count                  161.000000            161.000000   \n",
       "mean                     1.339441             56.351429   \n",
       "std                      1.152827             23.219885   \n",
       "min                     -1.600000             11.210000   \n",
       "25%                      0.450000             36.340000   \n",
       "50%                      1.250000             56.730000   \n",
       "75%                      2.170000             74.000000   \n",
       "max                      7.050000             98.890000   \n",
       "\n",
       "       Life Expectancy at Birth (avg years)  \\\n",
       "count                            161.000000   \n",
       "mean                              70.730683   \n",
       "std                                8.800197   \n",
       "min                               47.780000   \n",
       "25%                               65.960000   \n",
       "50%                               73.450000   \n",
       "75%                               76.760000   \n",
       "max                               82.700000   \n",
       "\n",
       "       Fertility Rate (births per woman)  \\\n",
       "count                         161.000000   \n",
       "mean                            2.786398   \n",
       "std                             1.405951   \n",
       "min                             1.230000   \n",
       "25%                             1.790000   \n",
       "50%                             2.250000   \n",
       "75%                             3.460000   \n",
       "max                             7.010000   \n",
       "\n",
       "       Infant Mortality (deaths per 1000 births)  \\\n",
       "count                                 161.000000   \n",
       "mean                                   24.203727   \n",
       "std                                    23.111558   \n",
       "min                                     1.700000   \n",
       "25%                                     6.700000   \n",
       "50%                                    14.900000   \n",
       "75%                                    38.500000   \n",
       "max                                   117.400000   \n",
       "\n",
       "       Enrolment Rate, Tertiary (%)  Unemployment, Total (%)  \\\n",
       "count                    161.000000               161.000000   \n",
       "mean                      34.376149                 9.334161   \n",
       "std                       26.913834                 7.650916   \n",
       "min                        0.810000                 0.200000   \n",
       "25%                       10.410000                 4.200000   \n",
       "50%                       26.790000                 7.200000   \n",
       "75%                       58.810000                12.700000   \n",
       "max                      100.800000                59.500000   \n",
       "\n",
       "       Estimated Control of Corruption (scale -2.5 to 2.5)  \\\n",
       "count                                         161.000000     \n",
       "mean                                            0.007143     \n",
       "std                                             0.977855     \n",
       "min                                            -1.560000     \n",
       "25%                                            -0.690000     \n",
       "50%                                            -0.300000     \n",
       "75%                                             0.640000     \n",
       "max                                             2.420000     \n",
       "\n",
       "       Estimated Government Effectiveness (scale -2.5 to 2.5)  \\\n",
       "count                                         161.000000        \n",
       "mean                                            0.047826        \n",
       "std                                             0.923518        \n",
       "min                                            -1.650000        \n",
       "25%                                            -0.640000        \n",
       "50%                                            -0.070000        \n",
       "75%                                             0.760000        \n",
       "max                                             2.210000        \n",
       "\n",
       "       Internet Users (%)  \n",
       "count          161.000000  \n",
       "mean            41.998137  \n",
       "std             28.954284  \n",
       "min              0.800000  \n",
       "25%             13.940000  \n",
       "50%             41.440000  \n",
       "75%             65.000000  \n",
       "max             96.000000  "
      ]
     },
     "execution_count": 23,
     "metadata": {},
     "output_type": "execute_result"
    }
   ],
   "source": [
    "data.describe()"
   ]
  },
  {
   "cell_type": "markdown",
   "metadata": {},
   "source": [
    "Also, the *.corr()* function will automatically calculate correlations between all the columns:"
   ]
  },
  {
   "cell_type": "code",
   "execution_count": 24,
   "metadata": {},
   "outputs": [
    {
     "data": {
      "text/html": [
       "<div>\n",
       "<style scoped>\n",
       "    .dataframe tbody tr th:only-of-type {\n",
       "        vertical-align: middle;\n",
       "    }\n",
       "\n",
       "    .dataframe tbody tr th {\n",
       "        vertical-align: top;\n",
       "    }\n",
       "\n",
       "    .dataframe thead th {\n",
       "        text-align: right;\n",
       "    }\n",
       "</style>\n",
       "<table border=\"1\" class=\"dataframe\">\n",
       "  <thead>\n",
       "    <tr style=\"text-align: right;\">\n",
       "      <th></th>\n",
       "      <th>GDP per Capita (PPP USD)</th>\n",
       "      <th>Population Density (persons per sq km)</th>\n",
       "      <th>Population Growth Rate (%)</th>\n",
       "      <th>Urban Population (%)</th>\n",
       "      <th>Life Expectancy at Birth (avg years)</th>\n",
       "      <th>Fertility Rate (births per woman)</th>\n",
       "      <th>Infant Mortality (deaths per 1000 births)</th>\n",
       "      <th>Enrolment Rate, Tertiary (%)</th>\n",
       "      <th>Unemployment, Total (%)</th>\n",
       "      <th>Estimated Control of Corruption (scale -2.5 to 2.5)</th>\n",
       "      <th>Estimated Government Effectiveness (scale -2.5 to 2.5)</th>\n",
       "      <th>Internet Users (%)</th>\n",
       "    </tr>\n",
       "  </thead>\n",
       "  <tbody>\n",
       "    <tr>\n",
       "      <th>GDP per Capita (PPP USD)</th>\n",
       "      <td>1.000000</td>\n",
       "      <td>0.072246</td>\n",
       "      <td>-0.153124</td>\n",
       "      <td>0.639128</td>\n",
       "      <td>0.643584</td>\n",
       "      <td>-0.525951</td>\n",
       "      <td>-0.585671</td>\n",
       "      <td>0.537171</td>\n",
       "      <td>-0.106848</td>\n",
       "      <td>0.759963</td>\n",
       "      <td>0.785839</td>\n",
       "      <td>0.821155</td>\n",
       "    </tr>\n",
       "    <tr>\n",
       "      <th>Population Density (persons per sq km)</th>\n",
       "      <td>0.072246</td>\n",
       "      <td>1.000000</td>\n",
       "      <td>-0.054785</td>\n",
       "      <td>0.020564</td>\n",
       "      <td>0.174552</td>\n",
       "      <td>-0.168728</td>\n",
       "      <td>-0.129753</td>\n",
       "      <td>-0.027875</td>\n",
       "      <td>-0.124238</td>\n",
       "      <td>0.094788</td>\n",
       "      <td>0.135485</td>\n",
       "      <td>0.146083</td>\n",
       "    </tr>\n",
       "    <tr>\n",
       "      <th>Population Growth Rate (%)</th>\n",
       "      <td>-0.153124</td>\n",
       "      <td>-0.054785</td>\n",
       "      <td>1.000000</td>\n",
       "      <td>-0.259166</td>\n",
       "      <td>-0.537366</td>\n",
       "      <td>0.736531</td>\n",
       "      <td>0.570344</td>\n",
       "      <td>-0.622351</td>\n",
       "      <td>-0.222239</td>\n",
       "      <td>-0.320934</td>\n",
       "      <td>-0.449213</td>\n",
       "      <td>-0.483063</td>\n",
       "    </tr>\n",
       "    <tr>\n",
       "      <th>Urban Population (%)</th>\n",
       "      <td>0.639128</td>\n",
       "      <td>0.020564</td>\n",
       "      <td>-0.259166</td>\n",
       "      <td>1.000000</td>\n",
       "      <td>0.649894</td>\n",
       "      <td>-0.553745</td>\n",
       "      <td>-0.578359</td>\n",
       "      <td>0.637276</td>\n",
       "      <td>0.029592</td>\n",
       "      <td>0.499966</td>\n",
       "      <td>0.566198</td>\n",
       "      <td>0.689482</td>\n",
       "    </tr>\n",
       "    <tr>\n",
       "      <th>Life Expectancy at Birth (avg years)</th>\n",
       "      <td>0.643584</td>\n",
       "      <td>0.174552</td>\n",
       "      <td>-0.537366</td>\n",
       "      <td>0.649894</td>\n",
       "      <td>1.000000</td>\n",
       "      <td>-0.827674</td>\n",
       "      <td>-0.923773</td>\n",
       "      <td>0.699675</td>\n",
       "      <td>-0.062751</td>\n",
       "      <td>0.634365</td>\n",
       "      <td>0.742861</td>\n",
       "      <td>0.798286</td>\n",
       "    </tr>\n",
       "    <tr>\n",
       "      <th>Fertility Rate (births per woman)</th>\n",
       "      <td>-0.525951</td>\n",
       "      <td>-0.168728</td>\n",
       "      <td>0.736531</td>\n",
       "      <td>-0.553745</td>\n",
       "      <td>-0.827674</td>\n",
       "      <td>1.000000</td>\n",
       "      <td>0.840303</td>\n",
       "      <td>-0.655466</td>\n",
       "      <td>-0.096186</td>\n",
       "      <td>-0.505364</td>\n",
       "      <td>-0.644172</td>\n",
       "      <td>-0.735775</td>\n",
       "    </tr>\n",
       "    <tr>\n",
       "      <th>Infant Mortality (deaths per 1000 births)</th>\n",
       "      <td>-0.585671</td>\n",
       "      <td>-0.129753</td>\n",
       "      <td>0.570344</td>\n",
       "      <td>-0.578359</td>\n",
       "      <td>-0.923773</td>\n",
       "      <td>0.840303</td>\n",
       "      <td>1.000000</td>\n",
       "      <td>-0.678646</td>\n",
       "      <td>0.032240</td>\n",
       "      <td>-0.589090</td>\n",
       "      <td>-0.719287</td>\n",
       "      <td>-0.780018</td>\n",
       "    </tr>\n",
       "    <tr>\n",
       "      <th>Enrolment Rate, Tertiary (%)</th>\n",
       "      <td>0.537171</td>\n",
       "      <td>-0.027875</td>\n",
       "      <td>-0.622351</td>\n",
       "      <td>0.637276</td>\n",
       "      <td>0.699675</td>\n",
       "      <td>-0.655466</td>\n",
       "      <td>-0.678646</td>\n",
       "      <td>1.000000</td>\n",
       "      <td>-0.016625</td>\n",
       "      <td>0.511104</td>\n",
       "      <td>0.634909</td>\n",
       "      <td>0.708241</td>\n",
       "    </tr>\n",
       "    <tr>\n",
       "      <th>Unemployment, Total (%)</th>\n",
       "      <td>-0.106848</td>\n",
       "      <td>-0.124238</td>\n",
       "      <td>-0.222239</td>\n",
       "      <td>0.029592</td>\n",
       "      <td>-0.062751</td>\n",
       "      <td>-0.096186</td>\n",
       "      <td>0.032240</td>\n",
       "      <td>-0.016625</td>\n",
       "      <td>1.000000</td>\n",
       "      <td>-0.011560</td>\n",
       "      <td>-0.071048</td>\n",
       "      <td>-0.018211</td>\n",
       "    </tr>\n",
       "    <tr>\n",
       "      <th>Estimated Control of Corruption (scale -2.5 to 2.5)</th>\n",
       "      <td>0.759963</td>\n",
       "      <td>0.094788</td>\n",
       "      <td>-0.320934</td>\n",
       "      <td>0.499966</td>\n",
       "      <td>0.634365</td>\n",
       "      <td>-0.505364</td>\n",
       "      <td>-0.589090</td>\n",
       "      <td>0.511104</td>\n",
       "      <td>-0.011560</td>\n",
       "      <td>1.000000</td>\n",
       "      <td>0.922517</td>\n",
       "      <td>0.779799</td>\n",
       "    </tr>\n",
       "    <tr>\n",
       "      <th>Estimated Government Effectiveness (scale -2.5 to 2.5)</th>\n",
       "      <td>0.785839</td>\n",
       "      <td>0.135485</td>\n",
       "      <td>-0.449213</td>\n",
       "      <td>0.566198</td>\n",
       "      <td>0.742861</td>\n",
       "      <td>-0.644172</td>\n",
       "      <td>-0.719287</td>\n",
       "      <td>0.634909</td>\n",
       "      <td>-0.071048</td>\n",
       "      <td>0.922517</td>\n",
       "      <td>1.000000</td>\n",
       "      <td>0.871476</td>\n",
       "    </tr>\n",
       "    <tr>\n",
       "      <th>Internet Users (%)</th>\n",
       "      <td>0.821155</td>\n",
       "      <td>0.146083</td>\n",
       "      <td>-0.483063</td>\n",
       "      <td>0.689482</td>\n",
       "      <td>0.798286</td>\n",
       "      <td>-0.735775</td>\n",
       "      <td>-0.780018</td>\n",
       "      <td>0.708241</td>\n",
       "      <td>-0.018211</td>\n",
       "      <td>0.779799</td>\n",
       "      <td>0.871476</td>\n",
       "      <td>1.000000</td>\n",
       "    </tr>\n",
       "  </tbody>\n",
       "</table>\n",
       "</div>"
      ],
      "text/plain": [
       "                                                    GDP per Capita (PPP USD)  \\\n",
       "GDP per Capita (PPP USD)                                            1.000000   \n",
       "Population Density (persons per sq km)                              0.072246   \n",
       "Population Growth Rate (%)                                         -0.153124   \n",
       "Urban Population (%)                                                0.639128   \n",
       "Life Expectancy at Birth (avg years)                                0.643584   \n",
       "Fertility Rate (births per woman)                                  -0.525951   \n",
       "Infant Mortality (deaths per 1000 births)                          -0.585671   \n",
       "Enrolment Rate, Tertiary (%)                                        0.537171   \n",
       "Unemployment, Total (%)                                            -0.106848   \n",
       "Estimated Control of Corruption (scale -2.5 to ...                  0.759963   \n",
       "Estimated Government Effectiveness (scale -2.5 ...                  0.785839   \n",
       "Internet Users (%)                                                  0.821155   \n",
       "\n",
       "                                                    Population Density (persons per sq km)  \\\n",
       "GDP per Capita (PPP USD)                                                          0.072246   \n",
       "Population Density (persons per sq km)                                            1.000000   \n",
       "Population Growth Rate (%)                                                       -0.054785   \n",
       "Urban Population (%)                                                              0.020564   \n",
       "Life Expectancy at Birth (avg years)                                              0.174552   \n",
       "Fertility Rate (births per woman)                                                -0.168728   \n",
       "Infant Mortality (deaths per 1000 births)                                        -0.129753   \n",
       "Enrolment Rate, Tertiary (%)                                                     -0.027875   \n",
       "Unemployment, Total (%)                                                          -0.124238   \n",
       "Estimated Control of Corruption (scale -2.5 to ...                                0.094788   \n",
       "Estimated Government Effectiveness (scale -2.5 ...                                0.135485   \n",
       "Internet Users (%)                                                                0.146083   \n",
       "\n",
       "                                                    Population Growth Rate (%)  \\\n",
       "GDP per Capita (PPP USD)                                             -0.153124   \n",
       "Population Density (persons per sq km)                               -0.054785   \n",
       "Population Growth Rate (%)                                            1.000000   \n",
       "Urban Population (%)                                                 -0.259166   \n",
       "Life Expectancy at Birth (avg years)                                 -0.537366   \n",
       "Fertility Rate (births per woman)                                     0.736531   \n",
       "Infant Mortality (deaths per 1000 births)                             0.570344   \n",
       "Enrolment Rate, Tertiary (%)                                         -0.622351   \n",
       "Unemployment, Total (%)                                              -0.222239   \n",
       "Estimated Control of Corruption (scale -2.5 to ...                   -0.320934   \n",
       "Estimated Government Effectiveness (scale -2.5 ...                   -0.449213   \n",
       "Internet Users (%)                                                   -0.483063   \n",
       "\n",
       "                                                    Urban Population (%)  \\\n",
       "GDP per Capita (PPP USD)                                        0.639128   \n",
       "Population Density (persons per sq km)                          0.020564   \n",
       "Population Growth Rate (%)                                     -0.259166   \n",
       "Urban Population (%)                                            1.000000   \n",
       "Life Expectancy at Birth (avg years)                            0.649894   \n",
       "Fertility Rate (births per woman)                              -0.553745   \n",
       "Infant Mortality (deaths per 1000 births)                      -0.578359   \n",
       "Enrolment Rate, Tertiary (%)                                    0.637276   \n",
       "Unemployment, Total (%)                                         0.029592   \n",
       "Estimated Control of Corruption (scale -2.5 to ...              0.499966   \n",
       "Estimated Government Effectiveness (scale -2.5 ...              0.566198   \n",
       "Internet Users (%)                                              0.689482   \n",
       "\n",
       "                                                    Life Expectancy at Birth (avg years)  \\\n",
       "GDP per Capita (PPP USD)                                                        0.643584   \n",
       "Population Density (persons per sq km)                                          0.174552   \n",
       "Population Growth Rate (%)                                                     -0.537366   \n",
       "Urban Population (%)                                                            0.649894   \n",
       "Life Expectancy at Birth (avg years)                                            1.000000   \n",
       "Fertility Rate (births per woman)                                              -0.827674   \n",
       "Infant Mortality (deaths per 1000 births)                                      -0.923773   \n",
       "Enrolment Rate, Tertiary (%)                                                    0.699675   \n",
       "Unemployment, Total (%)                                                        -0.062751   \n",
       "Estimated Control of Corruption (scale -2.5 to ...                              0.634365   \n",
       "Estimated Government Effectiveness (scale -2.5 ...                              0.742861   \n",
       "Internet Users (%)                                                              0.798286   \n",
       "\n",
       "                                                    Fertility Rate (births per woman)  \\\n",
       "GDP per Capita (PPP USD)                                                    -0.525951   \n",
       "Population Density (persons per sq km)                                      -0.168728   \n",
       "Population Growth Rate (%)                                                   0.736531   \n",
       "Urban Population (%)                                                        -0.553745   \n",
       "Life Expectancy at Birth (avg years)                                        -0.827674   \n",
       "Fertility Rate (births per woman)                                            1.000000   \n",
       "Infant Mortality (deaths per 1000 births)                                    0.840303   \n",
       "Enrolment Rate, Tertiary (%)                                                -0.655466   \n",
       "Unemployment, Total (%)                                                     -0.096186   \n",
       "Estimated Control of Corruption (scale -2.5 to ...                          -0.505364   \n",
       "Estimated Government Effectiveness (scale -2.5 ...                          -0.644172   \n",
       "Internet Users (%)                                                          -0.735775   \n",
       "\n",
       "                                                    Infant Mortality (deaths per 1000 births)  \\\n",
       "GDP per Capita (PPP USD)                                                            -0.585671   \n",
       "Population Density (persons per sq km)                                              -0.129753   \n",
       "Population Growth Rate (%)                                                           0.570344   \n",
       "Urban Population (%)                                                                -0.578359   \n",
       "Life Expectancy at Birth (avg years)                                                -0.923773   \n",
       "Fertility Rate (births per woman)                                                    0.840303   \n",
       "Infant Mortality (deaths per 1000 births)                                            1.000000   \n",
       "Enrolment Rate, Tertiary (%)                                                        -0.678646   \n",
       "Unemployment, Total (%)                                                              0.032240   \n",
       "Estimated Control of Corruption (scale -2.5 to ...                                  -0.589090   \n",
       "Estimated Government Effectiveness (scale -2.5 ...                                  -0.719287   \n",
       "Internet Users (%)                                                                  -0.780018   \n",
       "\n",
       "                                                    Enrolment Rate, Tertiary (%)  \\\n",
       "GDP per Capita (PPP USD)                                                0.537171   \n",
       "Population Density (persons per sq km)                                 -0.027875   \n",
       "Population Growth Rate (%)                                             -0.622351   \n",
       "Urban Population (%)                                                    0.637276   \n",
       "Life Expectancy at Birth (avg years)                                    0.699675   \n",
       "Fertility Rate (births per woman)                                      -0.655466   \n",
       "Infant Mortality (deaths per 1000 births)                              -0.678646   \n",
       "Enrolment Rate, Tertiary (%)                                            1.000000   \n",
       "Unemployment, Total (%)                                                -0.016625   \n",
       "Estimated Control of Corruption (scale -2.5 to ...                      0.511104   \n",
       "Estimated Government Effectiveness (scale -2.5 ...                      0.634909   \n",
       "Internet Users (%)                                                      0.708241   \n",
       "\n",
       "                                                    Unemployment, Total (%)  \\\n",
       "GDP per Capita (PPP USD)                                          -0.106848   \n",
       "Population Density (persons per sq km)                            -0.124238   \n",
       "Population Growth Rate (%)                                        -0.222239   \n",
       "Urban Population (%)                                               0.029592   \n",
       "Life Expectancy at Birth (avg years)                              -0.062751   \n",
       "Fertility Rate (births per woman)                                 -0.096186   \n",
       "Infant Mortality (deaths per 1000 births)                          0.032240   \n",
       "Enrolment Rate, Tertiary (%)                                      -0.016625   \n",
       "Unemployment, Total (%)                                            1.000000   \n",
       "Estimated Control of Corruption (scale -2.5 to ...                -0.011560   \n",
       "Estimated Government Effectiveness (scale -2.5 ...                -0.071048   \n",
       "Internet Users (%)                                                -0.018211   \n",
       "\n",
       "                                                    Estimated Control of Corruption (scale -2.5 to 2.5)  \\\n",
       "GDP per Capita (PPP USD)                                                                     0.759963     \n",
       "Population Density (persons per sq km)                                                       0.094788     \n",
       "Population Growth Rate (%)                                                                  -0.320934     \n",
       "Urban Population (%)                                                                         0.499966     \n",
       "Life Expectancy at Birth (avg years)                                                         0.634365     \n",
       "Fertility Rate (births per woman)                                                           -0.505364     \n",
       "Infant Mortality (deaths per 1000 births)                                                   -0.589090     \n",
       "Enrolment Rate, Tertiary (%)                                                                 0.511104     \n",
       "Unemployment, Total (%)                                                                     -0.011560     \n",
       "Estimated Control of Corruption (scale -2.5 to ...                                           1.000000     \n",
       "Estimated Government Effectiveness (scale -2.5 ...                                           0.922517     \n",
       "Internet Users (%)                                                                           0.779799     \n",
       "\n",
       "                                                    Estimated Government Effectiveness (scale -2.5 to 2.5)  \\\n",
       "GDP per Capita (PPP USD)                                                                     0.785839        \n",
       "Population Density (persons per sq km)                                                       0.135485        \n",
       "Population Growth Rate (%)                                                                  -0.449213        \n",
       "Urban Population (%)                                                                         0.566198        \n",
       "Life Expectancy at Birth (avg years)                                                         0.742861        \n",
       "Fertility Rate (births per woman)                                                           -0.644172        \n",
       "Infant Mortality (deaths per 1000 births)                                                   -0.719287        \n",
       "Enrolment Rate, Tertiary (%)                                                                 0.634909        \n",
       "Unemployment, Total (%)                                                                     -0.071048        \n",
       "Estimated Control of Corruption (scale -2.5 to ...                                           0.922517        \n",
       "Estimated Government Effectiveness (scale -2.5 ...                                           1.000000        \n",
       "Internet Users (%)                                                                           0.871476        \n",
       "\n",
       "                                                    Internet Users (%)  \n",
       "GDP per Capita (PPP USD)                                      0.821155  \n",
       "Population Density (persons per sq km)                        0.146083  \n",
       "Population Growth Rate (%)                                   -0.483063  \n",
       "Urban Population (%)                                          0.689482  \n",
       "Life Expectancy at Birth (avg years)                          0.798286  \n",
       "Fertility Rate (births per woman)                            -0.735775  \n",
       "Infant Mortality (deaths per 1000 births)                    -0.780018  \n",
       "Enrolment Rate, Tertiary (%)                                  0.708241  \n",
       "Unemployment, Total (%)                                      -0.018211  \n",
       "Estimated Control of Corruption (scale -2.5 to ...            0.779799  \n",
       "Estimated Government Effectiveness (scale -2.5 ...            0.871476  \n",
       "Internet Users (%)                                            1.000000  "
      ]
     },
     "execution_count": 24,
     "metadata": {},
     "output_type": "execute_result"
    }
   ],
   "source": [
    "data.corr()"
   ]
  },
  {
   "cell_type": "code",
   "execution_count": null,
   "metadata": {},
   "outputs": [],
   "source": []
  }
 ],
 "metadata": {
  "kernelspec": {
   "display_name": "Python 3",
   "language": "python",
   "name": "python3"
  },
  "language_info": {
   "codemirror_mode": {
    "name": "ipython",
    "version": 3
   },
   "file_extension": ".py",
   "mimetype": "text/x-python",
   "name": "python",
   "nbconvert_exporter": "python",
   "pygments_lexer": "ipython3",
   "version": "3.7.3"
  }
 },
 "nbformat": 4,
 "nbformat_minor": 4
}
