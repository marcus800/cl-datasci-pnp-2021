{
 "cells": [
  {
   "cell_type": "markdown",
   "metadata": {
    "slideshow": {
     "slide_type": "slide"
    }
   },
   "source": [
    "# Lecture 1: Introduction and Data Science Basics\n"
   ]
  },
  {
   "cell_type": "markdown",
   "metadata": {},
   "source": [
    "(Based on the Jupyter notebook by Marek Rei)\n",
    "\n",
    "This session will cover how to load data in common formats into python, plot it and calculate basic statistics over it. "
   ]
  },
  {
   "cell_type": "markdown",
   "metadata": {},
   "source": [
    "## Python Syntax Refresher"
   ]
  },
  {
   "cell_type": "markdown",
   "metadata": {},
   "source": [
    "Here is a short python program just to remind you about the python syntax. \n",
    "\n",
    "This short code snippet imports a library called *random*, creates a list with three elements, then goes through the list and prints each element along with a random number."
   ]
  },
  {
   "cell_type": "code",
   "execution_count": null,
   "metadata": {},
   "outputs": [],
   "source": [
    "import random\n",
    "\n",
    "my_list = [\"camel\", \"elephant\", \"crocodile\"]\n",
    "for word in my_list:\n",
    "    print(word + \" \" + str(random.random()))"
   ]
  },
  {
   "cell_type": "markdown",
   "metadata": {},
   "source": [
    "If you need help with getting started with Python, there are a couple of useful tutorials online, e.g.:\n",
    "\n",
    "- https://www.tutorialspoint.com/python/index.htm\n",
    "- https://www.learnpython.org\n",
    "- https://www.codecademy.com/learn/learn-python-3"
   ]
  },
  {
   "cell_type": "markdown",
   "metadata": {},
   "source": [
    "## Dataset\n",
    "\n",
    "We will use the data/country-stats.csv (the repository actually presents data in a number of different formats) file which contains demographic information for 161 countries, collected by The World Bank. Each line includes the following values:\n",
    "\n",
    "* Country\tName\n",
    "* GDP per Capita (PPP USD)\n",
    "* Population Density (persons per sq km)\n",
    "* Population Growth Rate (%)\n",
    "* Urban Population (%)\n",
    "* Life Expectancy at Birth (avg years)\n",
    "* Fertility Rate (births per woman)\n",
    "* Infant Mortality (deaths per 1000 births)\n",
    "* Enrolment Rate, Tertiary (%)\n",
    "* Unemployment, Total (%)\n",
    "* Estimated Control of Corruption (scale -2.5 to 2.5)\n",
    "* Estimated Government Effectiveness (scale -2.5 to 2.5)\n",
    "* Internet Users (%)"
   ]
  },
  {
   "cell_type": "markdown",
   "metadata": {},
   "source": [
    "A sample of the CSV (comma-separated values) format can be seen below. Values are separated by commas; the first row contains column headers.\n",
    "\n",
    "~~~~\n",
    "Country Name,GDP per Capita (PPP USD),Population Density (persons per sq km),Population Growth Rate (%),Urban Population (%),Life Expectancy at Birth (avg years),Fertility Rate (births per woman),Infant Mortality (deaths per 1000 births),\"Enrolment Rate, Tertiary (%)\",\"Unemployment, Total (%)\",Estimated Control of Corruption (scale -2.5 to 2.5),Estimated Government Effectiveness (scale -2.5 to 2.5),Internet Users (%)\n",
    "Afghanistan,1560.67,44.62,2.44,23.86,60.07,5.39,71,3.33,8.5,-1.41,-1.4,5.45\n",
    "Albania,9403.43,115.11,0.26,54.45,77.16,1.75,15,54.85,14.2,-0.72,-0.28,54.66\n",
    "Algeria,8515.35,15.86,1.89,73.71,70.75,2.83,25.6,31.46,10,-0.54,-0.55,15.23\n",
    "Antigua and Barbuda,19640.35,200.35,1.03,29.87,75.5,2.12,9.2,14.37,8.4,1.29,0.48,83.79\n",
    "Argentina,12016.2,14.88,0.88,92.64,75.84,2.2,12.7,74.83,7.2,-0.49,-0.25,55.8\n",
    "~~~~"
   ]
  },
  {
   "cell_type": "markdown",
   "metadata": {},
   "source": [
    "## Reading Data into Python"
   ]
  },
  {
   "cell_type": "markdown",
   "metadata": {},
   "source": [
    "We can use the python library called `pandas` in order to easily load CSV files into our code. The *data* variable will be a `pandas`-specific object containing the whole dataset. *data.head()* shows the first few lines."
   ]
  },
  {
   "cell_type": "code",
   "execution_count": null,
   "metadata": {
    "scrolled": true
   },
   "outputs": [],
   "source": [
    "import pandas as pd\n",
    "\n",
    "data = pd.read_csv('data/country-stats.csv')\n",
    "data.head()"
   ]
  },
  {
   "cell_type": "markdown",
   "metadata": {},
   "source": [
    "## Using *Pandas* to Analyze Data"
   ]
  },
  {
   "cell_type": "markdown",
   "metadata": {},
   "source": [
    "Now that we have loaded the data, we can analyze it.  \n",
    "\n",
    "To start, we'll focus on one variable in this dataset: GDP per Capita (PPP USD).\n",
    "\n",
    "It is common to describe a variable by finding its average value (the mean), so let's do that first."
   ]
  },
  {
   "cell_type": "code",
   "execution_count": null,
   "metadata": {},
   "outputs": [],
   "source": [
    "data[\"GDP per Capita (PPP USD)\"].mean()"
   ]
  },
  {
   "cell_type": "markdown",
   "metadata": {},
   "source": [
    "Now we know that the average GDP in those countries is $15616. But on its own that doesn't really tell us much. As data scientists, we want to find interesting connections and patterns. \n",
    "\n",
    "What if we look at how the average GDP differs between countries with low and high unemployment? We can use `pandas` to first select countries that have a specific unemployment percentage (e.g., 7\\%) and then calculate the mean over that group."
   ]
  },
  {
   "cell_type": "code",
   "execution_count": null,
   "metadata": {
    "scrolled": true
   },
   "outputs": [],
   "source": [
    "low_unemployment_countries = data[data[\"Unemployment, Total (%)\"] < 7]\n",
    "low_unemployment_countries[\"GDP per Capita (PPP USD)\"].mean()"
   ]
  },
  {
   "cell_type": "code",
   "execution_count": null,
   "metadata": {},
   "outputs": [],
   "source": [
    "high_unemployment_countries = data[data[\"Unemployment, Total (%)\"] >= 7]\n",
    "high_unemployment_countries[\"GDP per Capita (PPP USD)\"].mean()"
   ]
  },
  {
   "cell_type": "markdown",
   "metadata": {},
   "source": [
    "Now we're getting somewhere! There's a difference in average GDP between these two groups. Countries with higher unemployment rate have lower GDP.  \n",
    "\n",
    "Let's plot this finding using another helpful library, `matplotlib`."
   ]
  },
  {
   "cell_type": "code",
   "execution_count": null,
   "metadata": {},
   "outputs": [],
   "source": [
    "%matplotlib inline\n",
    "import matplotlib.pyplot as plt\n",
    "\n",
    "bar_width = 0.6\n",
    "\n",
    "x1 = [0.0]\n",
    "x2 = [bar_width]\n",
    "\n",
    "y1 = [data[data[\"Unemployment, Total (%)\"] < 7][\"GDP per Capita (PPP USD)\"].mean()]\n",
    "y2 = [data[data[\"Unemployment, Total (%)\"] >= 7][\"GDP per Capita (PPP USD)\"].mean()]\n",
    "\n",
    "fig, ax = plt.subplots()\n",
    "bars1 = ax.bar(x1, y1, bar_width, alpha=0.4, color='b', label='Low unemployment')\n",
    "bars2 = ax.bar(x2, y2, bar_width, alpha=0.4, color='r', label='High unemployment')\n",
    "\n",
    "ax.set_ylabel('GDP')\n",
    "ax.set_title('Average GDP by unemployment')\n",
    "ax.set_xticks([])\n",
    "ax.set_xlim([-2,2.5])\n",
    "ax.set_ylim([14000,17000])\n",
    "ax.legend()\n",
    "\n",
    "plt.show()"
   ]
  },
  {
   "cell_type": "markdown",
   "metadata": {},
   "source": [
    "This clearly looks like a big difference in GDP between the two countries, right?\n",
    "\n",
    "Well, there are actually a couple of problems with this plot. First of all, a lot depends on how the information is presented. If we adjust the Y axis to show the whole range of values, the same difference will not look as substantial any more."
   ]
  },
  {
   "cell_type": "code",
   "execution_count": null,
   "metadata": {},
   "outputs": [],
   "source": [
    "bar_width = 0.6\n",
    "\n",
    "x1 = [0.0]\n",
    "x2 = [bar_width]\n",
    "\n",
    "y1 = [data[data[\"Unemployment, Total (%)\"] < 7][\"GDP per Capita (PPP USD)\"].mean()]\n",
    "y2 = [data[data[\"Unemployment, Total (%)\"] >= 7][\"GDP per Capita (PPP USD)\"].mean()]\n",
    "\n",
    "fig, ax = plt.subplots()\n",
    "bars1 = ax.bar(x1, y1, bar_width, alpha=0.4, color='b', label='Low unempl.')\n",
    "bars2 = ax.bar(x2, y2, bar_width, alpha=0.4, color='r', label='High unempl.')\n",
    "\n",
    "ax.set_ylabel('GDP')\n",
    "ax.set_title('Average GDP by unemployment')\n",
    "ax.set_xticks([])\n",
    "ax.set_xlim([-2,2.5])\n",
    "ax.set_ylim([0, 17000])\n",
    "ax.legend()\n",
    "\n",
    "plt.show()"
   ]
  },
  {
   "cell_type": "markdown",
   "metadata": {},
   "source": [
    "That doesn't look like a very big difference any more. The way we present data is a powerful tool and we have to be careful not to let it fool ourselves (or others)."
   ]
  },
  {
   "cell_type": "markdown",
   "metadata": {},
   "source": [
    "The second problem is that taking the average of some data throws away a lot of important information. Let's calculate the standard deviation of these groups as well."
   ]
  },
  {
   "cell_type": "code",
   "execution_count": null,
   "metadata": {},
   "outputs": [],
   "source": [
    "low_unemployment_countries = data[data[\"Unemployment, Total (%)\"] < 7]\n",
    "low_unemployment_countries[\"GDP per Capita (PPP USD)\"].std()"
   ]
  },
  {
   "cell_type": "code",
   "execution_count": null,
   "metadata": {},
   "outputs": [],
   "source": [
    "high_unemployment_countries = data[data[\"Unemployment, Total (%)\"] >= 7]\n",
    "high_unemployment_countries[\"GDP per Capita (PPP USD)\"].std()"
   ]
  },
  {
   "cell_type": "markdown",
   "metadata": {},
   "source": [
    "For both subgroups, the standard deviation is almost just as high as the average GDP. This means there is so much variance in the data that the difference in averages hardly matters."
   ]
  },
  {
   "cell_type": "markdown",
   "metadata": {},
   "source": [
    "We can plot the data to take a better look at the relationships between these two variables."
   ]
  },
  {
   "cell_type": "code",
   "execution_count": null,
   "metadata": {},
   "outputs": [],
   "source": [
    "plt.scatter(data[\"Unemployment, Total (%)\"], data[\"GDP per Capita (PPP USD)\"])\n",
    "plt.xlabel(\"Unemployment, Total (%)\")\n",
    "plt.ylabel(\"GDP per Capita (PPP USD)\")\n",
    "for i in [37,84]:\n",
    "    plt.annotate(data[\"Country Name\"][i], (data[\"Unemployment, Total (%)\"][i], data[\"GDP per Capita (PPP USD)\"][i]))\n",
    "\n",
    "#fig.set_size_inches(5,5)\n",
    "plt.savefig('graph3.png', dpi=400)\n",
    "    \n",
    "plt.show()"
   ]
  },
  {
   "cell_type": "markdown",
   "metadata": {},
   "source": [
    "We can see that there are some countries with very low unemployment and very high GDP, and some countries with very high unemployment and very low GDP (following our original intuition about the data). But there are also many countries with low unemloyment and low GDP, so our original assumption doesn't really hold and is not actually supported by the data."
   ]
  },
  {
   "cell_type": "markdown",
   "metadata": {},
   "source": [
    "## Doing More with Pandas"
   ]
  },
  {
   "cell_type": "markdown",
   "metadata": {},
   "source": [
    "Here are some other useful things you can do with the `pandas` DataFrame object. If you call it on a dataset without any filters, it will calculate the mean value for all the columns."
   ]
  },
  {
   "cell_type": "code",
   "execution_count": null,
   "metadata": {},
   "outputs": [],
   "source": [
    "data.mean()"
   ]
  },
  {
   "cell_type": "markdown",
   "metadata": {},
   "source": [
    "Similarly, you can use it to calculate statistics such as the median, minimum and maximum:"
   ]
  },
  {
   "cell_type": "code",
   "execution_count": null,
   "metadata": {},
   "outputs": [],
   "source": [
    "data.median()\n",
    "data.min()\n",
    "data.max()"
   ]
  },
  {
   "cell_type": "markdown",
   "metadata": {},
   "source": [
    "You can get index using row/column numbers as well. Here is row number 2:"
   ]
  },
  {
   "cell_type": "code",
   "execution_count": null,
   "metadata": {},
   "outputs": [],
   "source": [
    "data.iloc[2,:]"
   ]
  },
  {
   "cell_type": "markdown",
   "metadata": {},
   "source": [
    "Column number 4:"
   ]
  },
  {
   "cell_type": "code",
   "execution_count": null,
   "metadata": {
    "scrolled": true
   },
   "outputs": [],
   "source": [
    "data.iloc[:,4].head()"
   ]
  },
  {
   "cell_type": "markdown",
   "metadata": {},
   "source": [
    "Element in row 2 column 4:"
   ]
  },
  {
   "cell_type": "code",
   "execution_count": null,
   "metadata": {},
   "outputs": [],
   "source": [
    "data.iloc[2,4]"
   ]
  },
  {
   "cell_type": "markdown",
   "metadata": {},
   "source": [
    "The *.describe()* function prints a bunch of different statistics at once for all the fields:"
   ]
  },
  {
   "cell_type": "code",
   "execution_count": null,
   "metadata": {},
   "outputs": [],
   "source": [
    "data.describe()"
   ]
  },
  {
   "cell_type": "markdown",
   "metadata": {},
   "source": [
    "Also, the *.corr()* function will automatically calculate correlations between all the columns:"
   ]
  },
  {
   "cell_type": "code",
   "execution_count": null,
   "metadata": {},
   "outputs": [],
   "source": [
    "data.corr()"
   ]
  },
  {
   "cell_type": "code",
   "execution_count": null,
   "metadata": {},
   "outputs": [],
   "source": []
  }
 ],
 "metadata": {
  "kernelspec": {
   "display_name": "Python 3",
   "language": "python",
   "name": "python3"
  },
  "language_info": {
   "codemirror_mode": {
    "name": "ipython",
    "version": 3
   },
   "file_extension": ".py",
   "mimetype": "text/x-python",
   "name": "python",
   "nbconvert_exporter": "python",
   "pygments_lexer": "ipython3",
   "version": "3.7.6"
  }
 },
 "nbformat": 4,
 "nbformat_minor": 2
}
